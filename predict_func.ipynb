{
 "cells": [
  {
   "cell_type": "code",
   "execution_count": 1,
   "id": "55e032bd-f843-4e8f-88c9-ffe362644d39",
   "metadata": {},
   "outputs": [],
   "source": [
    "import torch\n",
    "import torchvision.transforms as transforms\n",
    "import torch.nn as nn\n",
    "from PIL import Image\n",
    "import numpy as np\n",
    "import os\n",
    "import matplotlib.pyplot as plt"
   ]
  },
  {
   "cell_type": "code",
   "execution_count": 2,
   "id": "d4ee131e-eb84-4f16-b7c1-32f72a379f6c",
   "metadata": {},
   "outputs": [],
   "source": [
    "# Labels dictionary\n",
    "labels_dict = {\n",
    "    0: 'Speed limit (20km/h)', 1: 'Speed limit (30km/h)', 2: 'Speed limit (50km/h)',\n",
    "    3: 'Speed limit (60km/h)', 4: 'Speed limit (70km/h)', 5: 'Speed limit (80km/h)',\n",
    "    6: 'End of speed limit (80km/h)', 7: 'Speed limit (100km/h)', 8: 'Speed limit (120km/h)',\n",
    "    9: 'No passing', 10: 'No passing veh over 3.5 tons', 11: 'Right-of-way at intersection',\n",
    "    12: 'Priority road', 13: 'Yield', 14: 'Stop', 15: 'No vehicles', 16: 'Veh > 3.5 tons prohibited',\n",
    "    17: 'No entry', 18: 'General caution', 19: 'Dangerous curve left', 20: 'Dangerous curve right',\n",
    "    21: 'Double curve', 22: 'Bumpy road', 23: 'Slippery road', 24: 'Road narrows on the right',\n",
    "    25: 'Road work', 26: 'Traffic signals', 27: 'Pedestrians', 28: 'Children crossing',\n",
    "    29: 'Bicycles crossing', 30: 'Beware of ice/snow', 31: 'Wild animals crossing',\n",
    "    32: 'End speed + passing limits', 33: 'Turn right ahead', 34: 'Turn left ahead', 35: 'Ahead only',\n",
    "    36: 'Go straight or right', 37: 'Go straight or left', 38: 'Keep right', 39: 'Keep left',\n",
    "    40: 'Roundabout mandatory', 41: 'End of no passing', 42: 'End no passing veh > 3.5 tons'\n",
    "}\n",
    "\n",
    "# Define the model architecture (same as the trained model)\n",
    "model = nn.Sequential(\n",
    "    nn.Conv2d(3, 16, (2, 2), (1, 1), 'same'),   \n",
    "    nn.BatchNorm2d(16),                   \n",
    "    nn.ReLU(True),                       \n",
    "    nn.MaxPool2d((2, 2)),                 \n",
    "    nn.Conv2d(16, 32, (2, 2), (1, 1), 'same'),  \n",
    "    nn.BatchNorm2d(32),                  \n",
    "    nn.ReLU(True),                       \n",
    "    nn.MaxPool2d((2, 2)),                 \n",
    "    nn.Conv2d(32, 64, (2, 2), (1, 1), 'same'), \n",
    "    nn.BatchNorm2d(64),                  \n",
    "    nn.ReLU(True),                       \n",
    "    nn.MaxPool2d((2, 2)),                \n",
    "    nn.Flatten(),                        \n",
    "    nn.Linear(1024, 256),                 \n",
    "    nn.ReLU(True),                       \n",
    "    nn.Linear(256, 43)                    \n",
    ")\n",
    "\n",
    "# Load the trained model weights\n",
    "model.load_state_dict(torch.load('best_model_epoch_25.pth'))\n",
    "model = model.to(torch.device('cuda'))\n",
    "model.eval()\n",
    "\n",
    "# Function to preprocess a single image and make a prediction\n",
    "def predict_image(image_path):\n",
    "    # Load and preprocess the image\n",
    "    image = Image.open(image_path)\n",
    "    image = image.resize((32, 32))\n",
    "    image = np.array(image)\n",
    "\n",
    "    plt.imshow(image)\n",
    "    plt.show()\n",
    "    \n",
    "    transform = transforms.Compose([\n",
    "        transforms.ToTensor(),\n",
    "        transforms.Normalize((0.5,), (0.5,))\n",
    "    ])\n",
    "    image = transform(image)\n",
    "    image = image.unsqueeze(0)  # Add batch dimension\n",
    "\n",
    "    # Move image to the same device as the model\n",
    "    image = image.to(torch.device('cuda'))\n",
    "\n",
    "    # Make prediction\n",
    "    with torch.no_grad():\n",
    "        outputs = model(image)\n",
    "        _, predicted = torch.max(outputs.data, 1)\n",
    "        predicted_label = predicted.item()\n",
    "\n",
    "    # Return the label\n",
    "    return labels_dict[predicted_label]"
   ]
  },
  {
   "cell_type": "code",
   "execution_count": 3,
   "id": "087c895e-b164-4af7-918b-9356d61d5ef1",
   "metadata": {},
   "outputs": [
    {
     "data": {
      "image/png": "[encoded data removed]",
      "text/plain": [
       "<Figure size 640x480 with 1 Axes>"
      ]
     },
     "metadata": {},
     "output_type": "display_data"
    },
    {
     "name": "stdout",
     "output_type": "stream",
     "text": [
      "Predicted label: Priority road\n"
     ]
    },
    {
     "name": "stderr",
     "output_type": "stream",
     "text": [
      "E:\\anaconda3\\envs\\pt\\Lib\\site-packages\\torch\\nn\\modules\\conv.py:456: UserWarning: Using padding='same' with even kernel lengths and odd dilation may require a zero-padded copy of the input be created (Triggered internally at C:\\cb\\pytorch_1000000000000\\work\\aten\\src\\ATen\\native\\Convolution.cpp:1032.)\n",
      "  return F.conv2d(input, weight, bias, self.stride,\n"
     ]
    }
   ],
   "source": [
    "cur_path = os.getcwd()\n",
    "image_path = os.path.join(cur_path, 'Test', '12054.png')\n",
    "predicted_label = predict_image(image_path)\n",
    "print(f'Predicted label: {predicted_label}')"
   ]
  },
  {
   "cell_type": "code",
   "execution_count": null,
   "id": "9c918909-3906-436f-9c75-3c223c680615",
   "metadata": {},
   "outputs": [],
   "source": []
  }
 ],
 "metadata": {
  "kernelspec": {
   "display_name": "ptkernel",
   "language": "python",
   "name": "pt"
  },
  "language_info": {
   "codemirror_mode": {
    "name": "ipython",
    "version": 3
   },
   "file_extension": ".py",
   "mimetype": "text/x-python",
   "name": "python",
   "nbconvert_exporter": "python",
   "pygments_lexer": "ipython3",
   "version": "3.11.9"
  }
 },
 "nbformat": 4,
 "nbformat_minor": 5
}
